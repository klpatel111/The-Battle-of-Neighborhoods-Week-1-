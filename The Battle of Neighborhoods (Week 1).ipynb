{
 "cells": [
  {
   "cell_type": "markdown",
   "id": "b098cedf-039c-4a6d-8654-946e2eaa4608",
   "metadata": {},
   "source": [
    "# The Battle of Neighborhoods (Week 1)"
   ]
  },
  {
   "cell_type": "markdown",
   "id": "fe08e282-bef8-4512-98b2-b08e32b3f5ca",
   "metadata": {},
   "source": [
    "## Introduction"
   ]
  },
  {
   "cell_type": "markdown",
   "id": "0f62deb7-7c6f-4afd-80cc-35d8fe9fe19f",
   "metadata": {},
   "source": [
    "##### This project give brief detail of our neighbourhood so that people can easily find for there services and make there life easy.In this assignment i ma going to discuss about coffee shops near the college and hostels in new york so that it is for student to go for coffee quickly and they don't have to waste much time to finding coffee shop.  "
   ]
  },
  {
   "cell_type": "markdown",
   "id": "856e48f5-455a-419d-95a1-95bcbb5a4ff0",
   "metadata": {},
   "source": [
    "## Problem"
   ]
  },
  {
   "cell_type": "markdown",
   "id": "f740565c-b972-4e47-bf6e-ddce5768828a",
   "metadata": {},
   "source": [
    "##### we get geospatial data and from that we get location of coffee shops and college and hostels get to know that every college or hostels have a coffee shop within 50 meter radius if not then we can propose to open a coffee shop near that hostela or college"
   ]
  },
  {
   "cell_type": "markdown",
   "id": "a130bb49-ad87-4695-8d08-77768e64ad52",
   "metadata": {},
   "source": [
    "## Foursquare API"
   ]
  },
  {
   "cell_type": "markdown",
   "id": "00b31db6-d310-4b92-9c73-bf8690353d9d",
   "metadata": {},
   "source": [
    "##### This project would use Four-square API as its prime data gathering source as it has a database of millions of places, especially their places API which provides the ability to perform location search, location sharing and details about a business."
   ]
  },
  {
   "cell_type": "markdown",
   "id": "de0efc49-1b3b-4047-9b04-448ae4c9ff9b",
   "metadata": {},
   "source": [
    "## Important Libraries"
   ]
  },
  {
   "cell_type": "markdown",
   "id": "4a5ac4a2-f6d3-471c-b7a2-5ca9a66da880",
   "metadata": {},
   "source": [
    "##### we use pandas,numpy,beautifulsoup,geocoder,matplotlib,folium and some others"
   ]
  },
  {
   "cell_type": "markdown",
   "id": "deef4b45-ce2a-4296-b880-03b47af4708b",
   "metadata": {},
   "source": [
    "# Part-2 Data Section"
   ]
  },
  {
   "cell_type": "markdown",
   "id": "57634c8e-a109-4f5e-a960-ea842eb120ac",
   "metadata": {},
   "source": [
    "##### Data source-https://www.googleadservices.com/pagead/aclk?sa=L&ai=DChcSEwjOnMfw3L3yAhUOupYKHY-eDPsYABABGgJ0bA&ae=2&ohost=www.google.com&cid=CAESQeD2sZ0w-Q4izat_9lV1-D_pvGs4CfNzsCUfqZ8u2CtZcj80sHJ0J4pOiZMKobS7GDCTDEQSROIi22TTCsGAMDCQ&sig=AOD64_2DvWnaQVOWEkc4Axf5mzaHQtEN_A&q&nis=1&adurl&ved=2ahUKEwj_rL3w3L3yAhXTZCsKHU9lAtcQ0Qx6BAgFEAE"
   ]
  },
  {
   "cell_type": "code",
   "execution_count": null,
   "id": "478dca87-c7ed-4d26-8918-2d5e8007bb80",
   "metadata": {},
   "outputs": [],
   "source": []
  }
 ],
 "metadata": {
  "kernelspec": {
   "display_name": "Python",
   "language": "python",
   "name": "conda-env-python-py"
  },
  "language_info": {
   "codemirror_mode": {
    "name": "ipython",
    "version": 3
   },
   "file_extension": ".py",
   "mimetype": "text/x-python",
   "name": "python",
   "nbconvert_exporter": "python",
   "pygments_lexer": "ipython3",
   "version": "3.6.13"
  }
 },
 "nbformat": 4,
 "nbformat_minor": 5
}
